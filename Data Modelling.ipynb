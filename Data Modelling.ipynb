{
 "cells": [
  {
   "cell_type": "markdown",
   "metadata": {},
   "source": [
    "# Imported Library\n",
    "\n",
    "Please import all necessary library that will be needed in this kernel here."
   ]
  },
  {
   "cell_type": "code",
   "execution_count": 1,
   "metadata": {},
   "outputs": [],
   "source": [
    "import pandas as pd\n",
    "import numpy as np\n",
    "import matplotlib.pyplot as plt\n",
    "import seaborn as sns\n",
    "\n",
    "import math\n",
    "from sklearn.tree import DecisionTreeClassifier\n",
    "from sklearn.ensemble import RandomForestClassifier, GradientBoostingClassifier\n",
    "from sklearn.model_selection import KFold, LeaveOneOut, GridSearchCV, RandomizedSearchCV, train_test_split\n",
    "from sklearn.metrics import mean_squared_error, mean_absolute_error,r2_score\n",
    "from mlxtend.plotting import plot_decision_regions\n",
    "\n",
    "import warnings\n",
    "warnings.filterwarnings('ignore')\n",
    "\n",
    "pd.set_option('display.max_columns', None)"
   ]
  },
  {
   "cell_type": "markdown",
   "metadata": {},
   "source": [
    "# Imported Dataset\n",
    "\n",
    "Please import your dataset in pandas dataframe form. You can find the dataset in '../data/' directory. Don't forget to display the 5 top and size of dataset to give us initial idea about what kind dataset that we're going to analyze."
   ]
  },
  {
   "cell_type": "code",
   "execution_count": 2,
   "metadata": {},
   "outputs": [
    {
     "data": {
      "text/html": [
       "<div>\n",
       "<style scoped>\n",
       "    .dataframe tbody tr th:only-of-type {\n",
       "        vertical-align: middle;\n",
       "    }\n",
       "\n",
       "    .dataframe tbody tr th {\n",
       "        vertical-align: top;\n",
       "    }\n",
       "\n",
       "    .dataframe thead th {\n",
       "        text-align: right;\n",
       "    }\n",
       "</style>\n",
       "<table border=\"1\" class=\"dataframe\">\n",
       "  <thead>\n",
       "    <tr style=\"text-align: right;\">\n",
       "      <th></th>\n",
       "      <th>LIMIT_BAL</th>\n",
       "      <th>BILL_AMT1</th>\n",
       "      <th>BILL_AMT2</th>\n",
       "      <th>BILL_AMT3</th>\n",
       "      <th>BILL_AMT4</th>\n",
       "      <th>BILL_AMT5</th>\n",
       "      <th>BILL_AMT6</th>\n",
       "      <th>PAY_AMT1</th>\n",
       "      <th>PAY_AMT2</th>\n",
       "      <th>PAY_AMT3</th>\n",
       "      <th>PAY_AMT4</th>\n",
       "      <th>PAY_AMT5</th>\n",
       "      <th>PAY_AMT6</th>\n",
       "      <th>AGE</th>\n",
       "      <th>SEX</th>\n",
       "      <th>EDUCATION</th>\n",
       "      <th>MARRIAGE</th>\n",
       "      <th>PAY_0</th>\n",
       "      <th>PAY_2</th>\n",
       "      <th>PAY_3</th>\n",
       "      <th>PAY_4</th>\n",
       "      <th>PAY_5</th>\n",
       "      <th>PAY_6</th>\n",
       "      <th>default.payment.next.month</th>\n",
       "    </tr>\n",
       "  </thead>\n",
       "  <tbody>\n",
       "    <tr>\n",
       "      <th>0</th>\n",
       "      <td>0.02</td>\n",
       "      <td>0.141434</td>\n",
       "      <td>0.201904</td>\n",
       "      <td>0.284865</td>\n",
       "      <td>0.340651</td>\n",
       "      <td>0.419393</td>\n",
       "      <td>0.278769</td>\n",
       "      <td>0.235939</td>\n",
       "      <td>0.228697</td>\n",
       "      <td>0.124950</td>\n",
       "      <td>0.350561</td>\n",
       "      <td>0.031990</td>\n",
       "      <td>0.000000</td>\n",
       "      <td>0.314815</td>\n",
       "      <td>0</td>\n",
       "      <td>2</td>\n",
       "      <td>1</td>\n",
       "      <td>2</td>\n",
       "      <td>2</td>\n",
       "      <td>2</td>\n",
       "      <td>2</td>\n",
       "      <td>2</td>\n",
       "      <td>1</td>\n",
       "      <td>1</td>\n",
       "    </tr>\n",
       "    <tr>\n",
       "      <th>1</th>\n",
       "      <td>0.00</td>\n",
       "      <td>0.088774</td>\n",
       "      <td>0.051116</td>\n",
       "      <td>0.151372</td>\n",
       "      <td>0.218692</td>\n",
       "      <td>0.321427</td>\n",
       "      <td>0.379269</td>\n",
       "      <td>0.032079</td>\n",
       "      <td>0.783208</td>\n",
       "      <td>0.598802</td>\n",
       "      <td>0.600962</td>\n",
       "      <td>0.070164</td>\n",
       "      <td>0.078960</td>\n",
       "      <td>0.092593</td>\n",
       "      <td>1</td>\n",
       "      <td>1</td>\n",
       "      <td>2</td>\n",
       "      <td>2</td>\n",
       "      <td>1</td>\n",
       "      <td>1</td>\n",
       "      <td>2</td>\n",
       "      <td>2</td>\n",
       "      <td>2</td>\n",
       "      <td>0</td>\n",
       "    </tr>\n",
       "    <tr>\n",
       "      <th>2</th>\n",
       "      <td>0.26</td>\n",
       "      <td>0.241978</td>\n",
       "      <td>0.327153</td>\n",
       "      <td>0.437523</td>\n",
       "      <td>0.531247</td>\n",
       "      <td>0.674421</td>\n",
       "      <td>0.725578</td>\n",
       "      <td>0.219831</td>\n",
       "      <td>0.532581</td>\n",
       "      <td>0.000000</td>\n",
       "      <td>0.921474</td>\n",
       "      <td>0.000000</td>\n",
       "      <td>0.464468</td>\n",
       "      <td>0.111111</td>\n",
       "      <td>0</td>\n",
       "      <td>2</td>\n",
       "      <td>2</td>\n",
       "      <td>2</td>\n",
       "      <td>2</td>\n",
       "      <td>2</td>\n",
       "      <td>3</td>\n",
       "      <td>3</td>\n",
       "      <td>3</td>\n",
       "      <td>0</td>\n",
       "    </tr>\n",
       "    <tr>\n",
       "      <th>3</th>\n",
       "      <td>0.32</td>\n",
       "      <td>0.348188</td>\n",
       "      <td>0.425493</td>\n",
       "      <td>0.498933</td>\n",
       "      <td>0.588023</td>\n",
       "      <td>0.640052</td>\n",
       "      <td>0.713425</td>\n",
       "      <td>0.291626</td>\n",
       "      <td>0.329731</td>\n",
       "      <td>0.488423</td>\n",
       "      <td>0.240385</td>\n",
       "      <td>0.639795</td>\n",
       "      <td>0.464468</td>\n",
       "      <td>0.148148</td>\n",
       "      <td>1</td>\n",
       "      <td>2</td>\n",
       "      <td>2</td>\n",
       "      <td>2</td>\n",
       "      <td>2</td>\n",
       "      <td>2</td>\n",
       "      <td>2</td>\n",
       "      <td>2</td>\n",
       "      <td>2</td>\n",
       "      <td>0</td>\n",
       "    </tr>\n",
       "    <tr>\n",
       "      <th>4</th>\n",
       "      <td>0.16</td>\n",
       "      <td>0.258096</td>\n",
       "      <td>0.332566</td>\n",
       "      <td>0.458031</td>\n",
       "      <td>0.575928</td>\n",
       "      <td>0.668831</td>\n",
       "      <td>0.742169</td>\n",
       "      <td>0.000000</td>\n",
       "      <td>0.867638</td>\n",
       "      <td>0.399202</td>\n",
       "      <td>0.000000</td>\n",
       "      <td>0.426530</td>\n",
       "      <td>0.696702</td>\n",
       "      <td>0.425926</td>\n",
       "      <td>0</td>\n",
       "      <td>2</td>\n",
       "      <td>2</td>\n",
       "      <td>3</td>\n",
       "      <td>4</td>\n",
       "      <td>3</td>\n",
       "      <td>3</td>\n",
       "      <td>3</td>\n",
       "      <td>2</td>\n",
       "      <td>0</td>\n",
       "    </tr>\n",
       "  </tbody>\n",
       "</table>\n",
       "</div>"
      ],
      "text/plain": [
       "   LIMIT_BAL  BILL_AMT1  BILL_AMT2  BILL_AMT3  BILL_AMT4  BILL_AMT5  \\\n",
       "0       0.02   0.141434   0.201904   0.284865   0.340651   0.419393   \n",
       "1       0.00   0.088774   0.051116   0.151372   0.218692   0.321427   \n",
       "2       0.26   0.241978   0.327153   0.437523   0.531247   0.674421   \n",
       "3       0.32   0.348188   0.425493   0.498933   0.588023   0.640052   \n",
       "4       0.16   0.258096   0.332566   0.458031   0.575928   0.668831   \n",
       "\n",
       "   BILL_AMT6  PAY_AMT1  PAY_AMT2  PAY_AMT3  PAY_AMT4  PAY_AMT5  PAY_AMT6  \\\n",
       "0   0.278769  0.235939  0.228697  0.124950  0.350561  0.031990  0.000000   \n",
       "1   0.379269  0.032079  0.783208  0.598802  0.600962  0.070164  0.078960   \n",
       "2   0.725578  0.219831  0.532581  0.000000  0.921474  0.000000  0.464468   \n",
       "3   0.713425  0.291626  0.329731  0.488423  0.240385  0.639795  0.464468   \n",
       "4   0.742169  0.000000  0.867638  0.399202  0.000000  0.426530  0.696702   \n",
       "\n",
       "        AGE  SEX  EDUCATION  MARRIAGE  PAY_0  PAY_2  PAY_3  PAY_4  PAY_5  \\\n",
       "0  0.314815    0          2         1      2      2      2      2      2   \n",
       "1  0.092593    1          1         2      2      1      1      2      2   \n",
       "2  0.111111    0          2         2      2      2      2      3      3   \n",
       "3  0.148148    1          2         2      2      2      2      2      2   \n",
       "4  0.425926    0          2         2      3      4      3      3      3   \n",
       "\n",
       "   PAY_6  default.payment.next.month  \n",
       "0      1                           1  \n",
       "1      2                           0  \n",
       "2      3                           0  \n",
       "3      2                           0  \n",
       "4      2                           0  "
      ]
     },
     "execution_count": 2,
     "metadata": {},
     "output_type": "execute_result"
    }
   ],
   "source": [
    "data_train = pd.read_csv('dataPreprocessed/classification_train.csv')\n",
    "data_train.head()"
   ]
  },
  {
   "cell_type": "code",
   "execution_count": 3,
   "metadata": {},
   "outputs": [
    {
     "data": {
      "text/html": [
       "<div>\n",
       "<style scoped>\n",
       "    .dataframe tbody tr th:only-of-type {\n",
       "        vertical-align: middle;\n",
       "    }\n",
       "\n",
       "    .dataframe tbody tr th {\n",
       "        vertical-align: top;\n",
       "    }\n",
       "\n",
       "    .dataframe thead th {\n",
       "        text-align: right;\n",
       "    }\n",
       "</style>\n",
       "<table border=\"1\" class=\"dataframe\">\n",
       "  <thead>\n",
       "    <tr style=\"text-align: right;\">\n",
       "      <th></th>\n",
       "      <th>LIMIT_BAL</th>\n",
       "      <th>BILL_AMT1</th>\n",
       "      <th>BILL_AMT2</th>\n",
       "      <th>BILL_AMT3</th>\n",
       "      <th>BILL_AMT4</th>\n",
       "      <th>BILL_AMT5</th>\n",
       "      <th>BILL_AMT6</th>\n",
       "      <th>PAY_AMT1</th>\n",
       "      <th>PAY_AMT2</th>\n",
       "      <th>PAY_AMT3</th>\n",
       "      <th>PAY_AMT4</th>\n",
       "      <th>PAY_AMT5</th>\n",
       "      <th>PAY_AMT6</th>\n",
       "      <th>AGE</th>\n",
       "      <th>SEX</th>\n",
       "      <th>EDUCATION</th>\n",
       "      <th>MARRIAGE</th>\n",
       "      <th>PAY_0</th>\n",
       "      <th>PAY_2</th>\n",
       "      <th>PAY_3</th>\n",
       "      <th>PAY_4</th>\n",
       "      <th>PAY_5</th>\n",
       "      <th>PAY_6</th>\n",
       "      <th>default.payment.next.month</th>\n",
       "    </tr>\n",
       "  </thead>\n",
       "  <tbody>\n",
       "    <tr>\n",
       "      <th>0</th>\n",
       "      <td>0.42</td>\n",
       "      <td>0.594409</td>\n",
       "      <td>0.767089</td>\n",
       "      <td>0.756959</td>\n",
       "      <td>0.830450</td>\n",
       "      <td>0.832032</td>\n",
       "      <td>0.759349</td>\n",
       "      <td>0.555478</td>\n",
       "      <td>0.469925</td>\n",
       "      <td>0.453293</td>\n",
       "      <td>0.402444</td>\n",
       "      <td>0.313286</td>\n",
       "      <td>0.464468</td>\n",
       "      <td>0.166667</td>\n",
       "      <td>0</td>\n",
       "      <td>2</td>\n",
       "      <td>2</td>\n",
       "      <td>2</td>\n",
       "      <td>2</td>\n",
       "      <td>2</td>\n",
       "      <td>2</td>\n",
       "      <td>2</td>\n",
       "      <td>2</td>\n",
       "      <td>0</td>\n",
       "    </tr>\n",
       "    <tr>\n",
       "      <th>1</th>\n",
       "      <td>0.12</td>\n",
       "      <td>0.351639</td>\n",
       "      <td>0.368577</td>\n",
       "      <td>0.381727</td>\n",
       "      <td>0.448290</td>\n",
       "      <td>0.546885</td>\n",
       "      <td>0.590230</td>\n",
       "      <td>0.221775</td>\n",
       "      <td>0.220395</td>\n",
       "      <td>0.194012</td>\n",
       "      <td>0.201723</td>\n",
       "      <td>0.219237</td>\n",
       "      <td>0.212030</td>\n",
       "      <td>0.351852</td>\n",
       "      <td>1</td>\n",
       "      <td>1</td>\n",
       "      <td>1</td>\n",
       "      <td>2</td>\n",
       "      <td>2</td>\n",
       "      <td>2</td>\n",
       "      <td>2</td>\n",
       "      <td>2</td>\n",
       "      <td>2</td>\n",
       "      <td>0</td>\n",
       "    </tr>\n",
       "    <tr>\n",
       "      <th>2</th>\n",
       "      <td>0.04</td>\n",
       "      <td>0.207478</td>\n",
       "      <td>0.275572</td>\n",
       "      <td>0.342656</td>\n",
       "      <td>0.427143</td>\n",
       "      <td>0.517272</td>\n",
       "      <td>0.582324</td>\n",
       "      <td>0.249965</td>\n",
       "      <td>0.313283</td>\n",
       "      <td>0.319361</td>\n",
       "      <td>0.200321</td>\n",
       "      <td>0.213265</td>\n",
       "      <td>0.232234</td>\n",
       "      <td>0.185185</td>\n",
       "      <td>1</td>\n",
       "      <td>2</td>\n",
       "      <td>2</td>\n",
       "      <td>2</td>\n",
       "      <td>2</td>\n",
       "      <td>2</td>\n",
       "      <td>2</td>\n",
       "      <td>2</td>\n",
       "      <td>2</td>\n",
       "      <td>0</td>\n",
       "    </tr>\n",
       "    <tr>\n",
       "      <th>3</th>\n",
       "      <td>0.02</td>\n",
       "      <td>0.134908</td>\n",
       "      <td>0.211832</td>\n",
       "      <td>0.288377</td>\n",
       "      <td>0.355373</td>\n",
       "      <td>0.424523</td>\n",
       "      <td>0.485739</td>\n",
       "      <td>0.555478</td>\n",
       "      <td>0.000157</td>\n",
       "      <td>0.129940</td>\n",
       "      <td>0.000000</td>\n",
       "      <td>0.139689</td>\n",
       "      <td>0.151649</td>\n",
       "      <td>0.037037</td>\n",
       "      <td>1</td>\n",
       "      <td>1</td>\n",
       "      <td>2</td>\n",
       "      <td>2</td>\n",
       "      <td>2</td>\n",
       "      <td>4</td>\n",
       "      <td>3</td>\n",
       "      <td>3</td>\n",
       "      <td>2</td>\n",
       "      <td>0</td>\n",
       "    </tr>\n",
       "    <tr>\n",
       "      <th>4</th>\n",
       "      <td>0.08</td>\n",
       "      <td>0.198373</td>\n",
       "      <td>0.268969</td>\n",
       "      <td>0.361928</td>\n",
       "      <td>0.458290</td>\n",
       "      <td>0.557672</td>\n",
       "      <td>0.623634</td>\n",
       "      <td>0.201916</td>\n",
       "      <td>0.232456</td>\n",
       "      <td>0.299002</td>\n",
       "      <td>0.218950</td>\n",
       "      <td>0.242909</td>\n",
       "      <td>0.473525</td>\n",
       "      <td>0.148148</td>\n",
       "      <td>0</td>\n",
       "      <td>1</td>\n",
       "      <td>2</td>\n",
       "      <td>2</td>\n",
       "      <td>2</td>\n",
       "      <td>2</td>\n",
       "      <td>2</td>\n",
       "      <td>2</td>\n",
       "      <td>2</td>\n",
       "      <td>1</td>\n",
       "    </tr>\n",
       "  </tbody>\n",
       "</table>\n",
       "</div>"
      ],
      "text/plain": [
       "   LIMIT_BAL  BILL_AMT1  BILL_AMT2  BILL_AMT3  BILL_AMT4  BILL_AMT5  \\\n",
       "0       0.42   0.594409   0.767089   0.756959   0.830450   0.832032   \n",
       "1       0.12   0.351639   0.368577   0.381727   0.448290   0.546885   \n",
       "2       0.04   0.207478   0.275572   0.342656   0.427143   0.517272   \n",
       "3       0.02   0.134908   0.211832   0.288377   0.355373   0.424523   \n",
       "4       0.08   0.198373   0.268969   0.361928   0.458290   0.557672   \n",
       "\n",
       "   BILL_AMT6  PAY_AMT1  PAY_AMT2  PAY_AMT3  PAY_AMT4  PAY_AMT5  PAY_AMT6  \\\n",
       "0   0.759349  0.555478  0.469925  0.453293  0.402444  0.313286  0.464468   \n",
       "1   0.590230  0.221775  0.220395  0.194012  0.201723  0.219237  0.212030   \n",
       "2   0.582324  0.249965  0.313283  0.319361  0.200321  0.213265  0.232234   \n",
       "3   0.485739  0.555478  0.000157  0.129940  0.000000  0.139689  0.151649   \n",
       "4   0.623634  0.201916  0.232456  0.299002  0.218950  0.242909  0.473525   \n",
       "\n",
       "        AGE  SEX  EDUCATION  MARRIAGE  PAY_0  PAY_2  PAY_3  PAY_4  PAY_5  \\\n",
       "0  0.166667    0          2         2      2      2      2      2      2   \n",
       "1  0.351852    1          1         1      2      2      2      2      2   \n",
       "2  0.185185    1          2         2      2      2      2      2      2   \n",
       "3  0.037037    1          1         2      2      2      4      3      3   \n",
       "4  0.148148    0          1         2      2      2      2      2      2   \n",
       "\n",
       "   PAY_6  default.payment.next.month  \n",
       "0      2                           0  \n",
       "1      2                           0  \n",
       "2      2                           0  \n",
       "3      2                           0  \n",
       "4      2                           1  "
      ]
     },
     "execution_count": 3,
     "metadata": {},
     "output_type": "execute_result"
    }
   ],
   "source": [
    "data_test = pd.read_csv('dataPreprocessed/classification_test.csv')\n",
    "data_test.head()"
   ]
  },
  {
   "cell_type": "markdown",
   "metadata": {},
   "source": [
    "# Modelling Phase"
   ]
  },
  {
   "cell_type": "markdown",
   "metadata": {},
   "source": [
    "## Training Phase & Testing Phase"
   ]
  },
  {
   "cell_type": "code",
   "execution_count": 4,
   "metadata": {},
   "outputs": [],
   "source": [
    "X_train = data_train.drop(['default.payment.next.month'], axis=1)\n",
    "y_train = data_train['default.payment.next.month']\n",
    "\n",
    "X_test = data_test.drop(['default.payment.next.month'], axis=1)\n",
    "y_test = data_test['default.payment.next.month']"
   ]
  },
  {
   "cell_type": "markdown",
   "metadata": {},
   "source": [
    "### Decision Tree"
   ]
  },
  {
   "cell_type": "code",
   "execution_count": 5,
   "metadata": {},
   "outputs": [
    {
     "data": {
      "text/plain": [
       "DecisionTreeClassifier(ccp_alpha=0.0, class_weight=None, criterion='entropy',\n",
       "                       max_depth=None, max_features=None, max_leaf_nodes=None,\n",
       "                       min_impurity_decrease=0.0, min_impurity_split=None,\n",
       "                       min_samples_leaf=1, min_samples_split=2,\n",
       "                       min_weight_fraction_leaf=0.0, presort='deprecated',\n",
       "                       random_state=None, splitter='best')"
      ]
     },
     "execution_count": 5,
     "metadata": {},
     "output_type": "execute_result"
    }
   ],
   "source": [
    "# Machine learning model 1 training phase\n",
    "model_dt = DecisionTreeClassifier(criterion = 'entropy')\n",
    "model_dt.fit(X_train, y_train)"
   ]
  },
  {
   "cell_type": "code",
   "execution_count": 6,
   "metadata": {},
   "outputs": [
    {
     "data": {
      "text/plain": [
       "array([0, 0, 0, ..., 0, 0, 0], dtype=int64)"
      ]
     },
     "execution_count": 6,
     "metadata": {},
     "output_type": "execute_result"
    }
   ],
   "source": [
    "pred_dt = model_dt.predict(X_test)\n",
    "pred_dt"
   ]
  },
  {
   "cell_type": "markdown",
   "metadata": {},
   "source": [
    "### Random Forest "
   ]
  },
  {
   "cell_type": "code",
   "execution_count": 7,
   "metadata": {},
   "outputs": [
    {
     "data": {
      "text/plain": [
       "RandomForestClassifier(bootstrap=True, ccp_alpha=0.0, class_weight=None,\n",
       "                       criterion='entropy', max_depth=None, max_features='auto',\n",
       "                       max_leaf_nodes=None, max_samples=None,\n",
       "                       min_impurity_decrease=0.0, min_impurity_split=None,\n",
       "                       min_samples_leaf=1, min_samples_split=2,\n",
       "                       min_weight_fraction_leaf=0.0, n_estimators=100,\n",
       "                       n_jobs=None, oob_score=False, random_state=None,\n",
       "                       verbose=0, warm_start=False)"
      ]
     },
     "execution_count": 7,
     "metadata": {},
     "output_type": "execute_result"
    }
   ],
   "source": [
    "# Machine learning model 2 training phase\n",
    "model_rf = RandomForestClassifier(criterion ='entropy')\n",
    "model_rf.fit(X_train, y_train)"
   ]
  },
  {
   "cell_type": "code",
   "execution_count": 8,
   "metadata": {},
   "outputs": [
    {
     "data": {
      "text/plain": [
       "array([0, 0, 0, ..., 0, 0, 0], dtype=int64)"
      ]
     },
     "execution_count": 8,
     "metadata": {},
     "output_type": "execute_result"
    }
   ],
   "source": [
    "pred_rf = model_rf.predict(X_test)\n",
    "pred_rf"
   ]
  },
  {
   "cell_type": "markdown",
   "metadata": {},
   "source": [
    "### Gradient Boosting "
   ]
  },
  {
   "cell_type": "code",
   "execution_count": 9,
   "metadata": {},
   "outputs": [
    {
     "data": {
      "text/plain": [
       "GradientBoostingClassifier(ccp_alpha=0.0, criterion='friedman_mse', init=None,\n",
       "                           learning_rate=0.1, loss='deviance', max_depth=3,\n",
       "                           max_features=None, max_leaf_nodes=None,\n",
       "                           min_impurity_decrease=0.0, min_impurity_split=None,\n",
       "                           min_samples_leaf=1, min_samples_split=2,\n",
       "                           min_weight_fraction_leaf=0.0, n_estimators=100,\n",
       "                           n_iter_no_change=None, presort='deprecated',\n",
       "                           random_state=None, subsample=1.0, tol=0.0001,\n",
       "                           validation_fraction=0.1, verbose=0,\n",
       "                           warm_start=False)"
      ]
     },
     "execution_count": 9,
     "metadata": {},
     "output_type": "execute_result"
    }
   ],
   "source": [
    "# Machine learning model 3 training phase\n",
    "model_gb = GradientBoostingClassifier() \n",
    "model_gb.fit(X_train, y_train)"
   ]
  },
  {
   "cell_type": "code",
   "execution_count": 10,
   "metadata": {},
   "outputs": [
    {
     "data": {
      "text/plain": [
       "array([0, 0, 0, ..., 0, 0, 0], dtype=int64)"
      ]
     },
     "execution_count": 10,
     "metadata": {},
     "output_type": "execute_result"
    }
   ],
   "source": [
    "pred_gb = model_gb.predict(X_test)\n",
    "pred_gb"
   ]
  },
  {
   "cell_type": "markdown",
   "metadata": {},
   "source": [
    "## Optimization Phase"
   ]
  },
  {
   "cell_type": "markdown",
   "metadata": {},
   "source": [
    "## Random Search + K-Fold"
   ]
  },
  {
   "cell_type": "code",
   "execution_count": 11,
   "metadata": {},
   "outputs": [],
   "source": [
    "from scipy.stats import randint as sp_randint\n",
    "\n",
    "X = X_train.append(X_test).values\n",
    "y = y_train.append(y_test).values"
   ]
  },
  {
   "cell_type": "code",
   "execution_count": 12,
   "metadata": {},
   "outputs": [],
   "source": [
    "tuned_params = {   \"max_depth\": sp_randint(1, 4),\n",
    "                      \"min_samples_leaf\"  : sp_randint(2, 11),\n",
    "                      'min_samples_split' : sp_randint(2, 11)}"
   ]
  },
  {
   "cell_type": "markdown",
   "metadata": {},
   "source": [
    "### Decision Tree"
   ]
  },
  {
   "cell_type": "code",
   "execution_count": 13,
   "metadata": {},
   "outputs": [
    {
     "name": "stdout",
     "output_type": "stream",
     "text": [
      "Best Params for Decision Tree:  {'max_depth': 3, 'min_samples_leaf': 2, 'min_samples_split': 6}\n",
      "\n",
      "0.775 (+/-0.020) for {'max_depth': 1, 'min_samples_leaf': 3, 'min_samples_split': 9}\n",
      "0.777 (+/-0.018) for {'max_depth': 3, 'min_samples_leaf': 2, 'min_samples_split': 6}\n",
      "0.775 (+/-0.020) for {'max_depth': 1, 'min_samples_leaf': 5, 'min_samples_split': 2}\n",
      "0.775 (+/-0.021) for {'max_depth': 2, 'min_samples_leaf': 8, 'min_samples_split': 2}\n",
      "0.775 (+/-0.020) for {'max_depth': 1, 'min_samples_leaf': 4, 'min_samples_split': 9}\n",
      "0.775 (+/-0.020) for {'max_depth': 1, 'min_samples_leaf': 6, 'min_samples_split': 7}\n",
      "0.775 (+/-0.021) for {'max_depth': 2, 'min_samples_leaf': 2, 'min_samples_split': 8}\n",
      "0.775 (+/-0.021) for {'max_depth': 2, 'min_samples_leaf': 9, 'min_samples_split': 7}\n",
      "0.777 (+/-0.018) for {'max_depth': 3, 'min_samples_leaf': 8, 'min_samples_split': 4}\n",
      "0.777 (+/-0.018) for {'max_depth': 3, 'min_samples_leaf': 8, 'min_samples_split': 2}\n",
      "0.775 (+/-0.021) for {'max_depth': 2, 'min_samples_leaf': 8, 'min_samples_split': 2}\n",
      "0.775 (+/-0.020) for {'max_depth': 1, 'min_samples_leaf': 3, 'min_samples_split': 3}\n",
      "0.775 (+/-0.021) for {'max_depth': 2, 'min_samples_leaf': 10, 'min_samples_split': 3}\n",
      "0.775 (+/-0.021) for {'max_depth': 2, 'min_samples_leaf': 8, 'min_samples_split': 2}\n",
      "0.775 (+/-0.020) for {'max_depth': 1, 'min_samples_leaf': 4, 'min_samples_split': 8}\n",
      "0.777 (+/-0.018) for {'max_depth': 3, 'min_samples_leaf': 2, 'min_samples_split': 10}\n",
      "0.775 (+/-0.020) for {'max_depth': 1, 'min_samples_leaf': 8, 'min_samples_split': 8}\n",
      "0.775 (+/-0.020) for {'max_depth': 1, 'min_samples_leaf': 4, 'min_samples_split': 9}\n",
      "0.777 (+/-0.018) for {'max_depth': 3, 'min_samples_leaf': 6, 'min_samples_split': 7}\n",
      "0.777 (+/-0.018) for {'max_depth': 3, 'min_samples_leaf': 4, 'min_samples_split': 6}\n"
     ]
    }
   ],
   "source": [
    "random_search_dt = RandomizedSearchCV(model_dt, tuned_params,\n",
    "                                  n_iter = 20, cv = 10)\n",
    "\n",
    "random_search_dt.fit(X, y)\n",
    "print(\"Best Params for Decision Tree: \",random_search_dt.best_params_)\n",
    "print()\n",
    "\n",
    "means = random_search_dt.cv_results_['mean_test_score']\n",
    "stds = random_search_dt.cv_results_['std_test_score']\n",
    "\n",
    "for mean, std, params in zip(means, stds, random_search_dt.cv_results_['params']):\n",
    "        print(\"%0.3f (+/-%0.03f) for %r\"\n",
    "              % (mean, std * 2, params))"
   ]
  },
  {
   "cell_type": "code",
   "execution_count": 14,
   "metadata": {},
   "outputs": [],
   "source": [
    "model_dt_2 = DecisionTreeClassifier(criterion = 'entropy',\n",
    "                                   max_depth = random_search_dt.best_params_['max_depth'],\n",
    "                                   min_samples_leaf = random_search_dt.best_params_['min_samples_leaf'],\n",
    "                                   min_samples_split = random_search_dt.best_params_['min_samples_split'])"
   ]
  },
  {
   "cell_type": "code",
   "execution_count": 15,
   "metadata": {},
   "outputs": [
    {
     "data": {
      "text/plain": [
       "DecisionTreeClassifier(ccp_alpha=0.0, class_weight=None, criterion='entropy',\n",
       "                       max_depth=3, max_features=None, max_leaf_nodes=None,\n",
       "                       min_impurity_decrease=0.0, min_impurity_split=None,\n",
       "                       min_samples_leaf=2, min_samples_split=6,\n",
       "                       min_weight_fraction_leaf=0.0, presort='deprecated',\n",
       "                       random_state=None, splitter='best')"
      ]
     },
     "execution_count": 15,
     "metadata": {},
     "output_type": "execute_result"
    }
   ],
   "source": [
    "model_dt_2.fit(X_train, y_train)"
   ]
  },
  {
   "cell_type": "code",
   "execution_count": 16,
   "metadata": {},
   "outputs": [
    {
     "name": "stdout",
     "output_type": "stream",
     "text": [
      "KFold(n_splits=20, random_state=45, shuffle=False)\n",
      "Score in Decision Tree :  0.7696551724137931\n",
      "Score in Decision Tree :  0.7503448275862069\n",
      "Score in Decision Tree :  0.7737931034482759\n",
      "Score in Decision Tree :  0.7682758620689655\n",
      "Score in Decision Tree :  0.7958620689655173\n",
      "Score in Decision Tree :  0.7724137931034483\n",
      "Score in Decision Tree :  0.776551724137931\n",
      "Score in Decision Tree :  0.7720994475138122\n",
      "Score in Decision Tree :  0.7665745856353591\n",
      "Score in Decision Tree :  0.7941988950276243\n",
      "Score in Decision Tree :  0.7665745856353591\n",
      "Score in Decision Tree :  0.7582872928176796\n",
      "Score in Decision Tree :  0.7969613259668509\n",
      "Score in Decision Tree :  0.7803867403314917\n",
      "Score in Decision Tree :  0.7762430939226519\n",
      "Score in Decision Tree :  0.7914364640883977\n",
      "Score in Decision Tree :  0.7969613259668509\n",
      "Score in Decision Tree :  0.7803867403314917\n",
      "Score in Decision Tree :  0.787292817679558\n",
      "Score in Decision Tree :  0.7679558011049724\n",
      "0.7771127833873119\n"
     ]
    }
   ],
   "source": [
    "kf = KFold(n_splits=20, random_state=45)\n",
    "kf.get_n_splits(X)\n",
    "from sklearn.metrics import accuracy_score\n",
    "print(kf)\n",
    "\n",
    "# save our score\n",
    "scoring = []\n",
    "for train_index, test_index in kf.split(X):\n",
    "    X_train, X_test = X[train_index], X[test_index]\n",
    "    y_train, y_test = y[train_index], y[test_index]\n",
    "    model_dt_2.fit(X_train,y_train)\n",
    "    pred = model_dt_2.predict(X_test)\n",
    "    hasil = accuracy_score(y_test, pred)\n",
    "    print(\"Score in Decision Tree : \", hasil)\n",
    "    scoring.append(hasil)\n",
    "scoring = np.array(scoring)\n",
    "score_rata_dt = scoring.mean()\n",
    "print(score_rata_dt)"
   ]
  },
  {
   "cell_type": "markdown",
   "metadata": {},
   "source": [
    "### Random Forest "
   ]
  },
  {
   "cell_type": "code",
   "execution_count": 17,
   "metadata": {},
   "outputs": [
    {
     "name": "stdout",
     "output_type": "stream",
     "text": [
      "Best Params for Random Forest:  {'max_depth': 3, 'min_samples_leaf': 6, 'min_samples_split': 8}\n",
      "\n",
      "0.738 (+/-0.015) for {'max_depth': 1, 'min_samples_leaf': 5, 'min_samples_split': 7}\n",
      "0.763 (+/-0.012) for {'max_depth': 3, 'min_samples_leaf': 6, 'min_samples_split': 8}\n",
      "0.736 (+/-0.016) for {'max_depth': 1, 'min_samples_leaf': 8, 'min_samples_split': 2}\n",
      "0.758 (+/-0.012) for {'max_depth': 2, 'min_samples_leaf': 10, 'min_samples_split': 5}\n",
      "0.742 (+/-0.016) for {'max_depth': 1, 'min_samples_leaf': 8, 'min_samples_split': 4}\n",
      "0.762 (+/-0.013) for {'max_depth': 3, 'min_samples_leaf': 8, 'min_samples_split': 5}\n",
      "0.757 (+/-0.012) for {'max_depth': 2, 'min_samples_leaf': 8, 'min_samples_split': 2}\n",
      "0.742 (+/-0.017) for {'max_depth': 1, 'min_samples_leaf': 6, 'min_samples_split': 8}\n",
      "0.757 (+/-0.014) for {'max_depth': 2, 'min_samples_leaf': 5, 'min_samples_split': 3}\n",
      "0.738 (+/-0.019) for {'max_depth': 1, 'min_samples_leaf': 7, 'min_samples_split': 6}\n",
      "0.756 (+/-0.009) for {'max_depth': 2, 'min_samples_leaf': 9, 'min_samples_split': 9}\n",
      "0.739 (+/-0.017) for {'max_depth': 1, 'min_samples_leaf': 3, 'min_samples_split': 2}\n",
      "0.756 (+/-0.012) for {'max_depth': 2, 'min_samples_leaf': 7, 'min_samples_split': 3}\n",
      "0.763 (+/-0.015) for {'max_depth': 3, 'min_samples_leaf': 10, 'min_samples_split': 4}\n",
      "0.759 (+/-0.014) for {'max_depth': 2, 'min_samples_leaf': 10, 'min_samples_split': 8}\n",
      "0.740 (+/-0.014) for {'max_depth': 1, 'min_samples_leaf': 5, 'min_samples_split': 8}\n",
      "0.738 (+/-0.022) for {'max_depth': 1, 'min_samples_leaf': 6, 'min_samples_split': 3}\n",
      "0.743 (+/-0.015) for {'max_depth': 1, 'min_samples_leaf': 3, 'min_samples_split': 3}\n",
      "0.756 (+/-0.010) for {'max_depth': 2, 'min_samples_leaf': 10, 'min_samples_split': 2}\n",
      "0.738 (+/-0.018) for {'max_depth': 1, 'min_samples_leaf': 6, 'min_samples_split': 2}\n"
     ]
    }
   ],
   "source": [
    "random_search_rf = RandomizedSearchCV(model_rf, tuned_params,\n",
    "                                  n_iter = 20, cv = 10)\n",
    "\n",
    "random_search_rf.fit(X, y)\n",
    "print(\"Best Params for Random Forest: \",random_search_rf.best_params_)\n",
    "print()\n",
    "\n",
    "means = random_search_rf.cv_results_['mean_test_score']\n",
    "stds = random_search_rf.cv_results_['std_test_score']\n",
    "\n",
    "for mean, std, params in zip(means, stds, random_search_rf.cv_results_['params']):\n",
    "        print(\"%0.3f (+/-%0.03f) for %r\"\n",
    "              % (mean, std * 2, params))"
   ]
  },
  {
   "cell_type": "code",
   "execution_count": 18,
   "metadata": {},
   "outputs": [],
   "source": [
    "model_rf_2 = RandomForestClassifier(criterion = 'entropy',\n",
    "                                   max_depth = random_search_rf.best_params_['max_depth'],\n",
    "                                   min_samples_leaf = random_search_rf.best_params_['min_samples_leaf'],\n",
    "                                   min_samples_split = random_search_rf.best_params_['min_samples_split'])"
   ]
  },
  {
   "cell_type": "code",
   "execution_count": 19,
   "metadata": {},
   "outputs": [
    {
     "data": {
      "text/plain": [
       "RandomForestClassifier(bootstrap=True, ccp_alpha=0.0, class_weight=None,\n",
       "                       criterion='entropy', max_depth=3, max_features='auto',\n",
       "                       max_leaf_nodes=None, max_samples=None,\n",
       "                       min_impurity_decrease=0.0, min_impurity_split=None,\n",
       "                       min_samples_leaf=6, min_samples_split=8,\n",
       "                       min_weight_fraction_leaf=0.0, n_estimators=100,\n",
       "                       n_jobs=None, oob_score=False, random_state=None,\n",
       "                       verbose=0, warm_start=False)"
      ]
     },
     "execution_count": 19,
     "metadata": {},
     "output_type": "execute_result"
    }
   ],
   "source": [
    "model_rf_2.fit(X_train, y_train)"
   ]
  },
  {
   "cell_type": "code",
   "execution_count": 20,
   "metadata": {},
   "outputs": [
    {
     "name": "stdout",
     "output_type": "stream",
     "text": [
      "KFold(n_splits=20, random_state=45, shuffle=False)\n",
      "Score in Random Forest :  0.766896551724138\n",
      "Score in Random Forest :  0.7379310344827587\n",
      "Score in Random Forest :  0.7586206896551724\n",
      "Score in Random Forest :  0.766896551724138\n",
      "Score in Random Forest :  0.7710344827586207\n",
      "Score in Random Forest :  0.766896551724138\n",
      "Score in Random Forest :  0.7503448275862069\n",
      "Score in Random Forest :  0.7527624309392266\n",
      "Score in Random Forest :  0.7541436464088398\n",
      "Score in Random Forest :  0.7845303867403315\n",
      "Score in Random Forest :  0.761049723756906\n",
      "Score in Random Forest :  0.744475138121547\n",
      "Score in Random Forest :  0.7776243093922652\n",
      "Score in Random Forest :  0.761049723756906\n",
      "Score in Random Forest :  0.7638121546961326\n",
      "Score in Random Forest :  0.7845303867403315\n",
      "Score in Random Forest :  0.7845303867403315\n",
      "Score in Random Forest :  0.761049723756906\n",
      "Score in Random Forest :  0.7707182320441989\n",
      "Score in Random Forest :  0.7513812154696132\n",
      "0.7635139074109355\n"
     ]
    }
   ],
   "source": [
    "kf = KFold(n_splits=20, random_state=45)\n",
    "kf.get_n_splits(X)\n",
    "from sklearn.metrics import accuracy_score\n",
    "print(kf)\n",
    "\n",
    "# save our score\n",
    "scoring = []\n",
    "for train_index, test_index in kf.split(X):\n",
    "    X_train, X_test = X[train_index], X[test_index]\n",
    "    y_train, y_test = y[train_index], y[test_index]\n",
    "    model_rf_2.fit(X_train, y_train)\n",
    "    pred = model_rf_2.predict(X_test)\n",
    "    hasil = accuracy_score(y_test, pred)\n",
    "    print(\"Score in Random Forest : \", hasil)\n",
    "    scoring.append(hasil)\n",
    "scoring = np.array(scoring)\n",
    "score_rata_rf = scoring.mean()\n",
    "print(score_rata_rf)"
   ]
  },
  {
   "cell_type": "markdown",
   "metadata": {},
   "source": [
    "### Gradient Boosting "
   ]
  },
  {
   "cell_type": "code",
   "execution_count": 21,
   "metadata": {},
   "outputs": [
    {
     "name": "stdout",
     "output_type": "stream",
     "text": [
      "Best Params for Gradient Boosting:  {'max_depth': 2, 'min_samples_leaf': 2, 'min_samples_split': 8}\n",
      "\n",
      "0.776 (+/-0.018) for {'max_depth': 3, 'min_samples_leaf': 3, 'min_samples_split': 5}\n",
      "0.776 (+/-0.017) for {'max_depth': 3, 'min_samples_leaf': 6, 'min_samples_split': 6}\n",
      "0.775 (+/-0.017) for {'max_depth': 1, 'min_samples_leaf': 2, 'min_samples_split': 2}\n",
      "0.774 (+/-0.018) for {'max_depth': 3, 'min_samples_leaf': 8, 'min_samples_split': 9}\n",
      "0.777 (+/-0.017) for {'max_depth': 2, 'min_samples_leaf': 2, 'min_samples_split': 8}\n",
      "0.776 (+/-0.017) for {'max_depth': 3, 'min_samples_leaf': 6, 'min_samples_split': 2}\n",
      "0.775 (+/-0.017) for {'max_depth': 1, 'min_samples_leaf': 5, 'min_samples_split': 5}\n",
      "0.775 (+/-0.017) for {'max_depth': 1, 'min_samples_leaf': 5, 'min_samples_split': 9}\n",
      "0.775 (+/-0.017) for {'max_depth': 1, 'min_samples_leaf': 10, 'min_samples_split': 8}\n",
      "0.775 (+/-0.017) for {'max_depth': 1, 'min_samples_leaf': 10, 'min_samples_split': 2}\n",
      "0.775 (+/-0.017) for {'max_depth': 1, 'min_samples_leaf': 4, 'min_samples_split': 6}\n",
      "0.777 (+/-0.016) for {'max_depth': 2, 'min_samples_leaf': 3, 'min_samples_split': 10}\n",
      "0.776 (+/-0.018) for {'max_depth': 3, 'min_samples_leaf': 2, 'min_samples_split': 7}\n",
      "0.775 (+/-0.017) for {'max_depth': 1, 'min_samples_leaf': 9, 'min_samples_split': 2}\n",
      "0.776 (+/-0.017) for {'max_depth': 3, 'min_samples_leaf': 7, 'min_samples_split': 10}\n",
      "0.775 (+/-0.017) for {'max_depth': 1, 'min_samples_leaf': 5, 'min_samples_split': 6}\n",
      "0.775 (+/-0.017) for {'max_depth': 1, 'min_samples_leaf': 5, 'min_samples_split': 8}\n",
      "0.775 (+/-0.017) for {'max_depth': 1, 'min_samples_leaf': 9, 'min_samples_split': 9}\n",
      "0.775 (+/-0.017) for {'max_depth': 1, 'min_samples_leaf': 7, 'min_samples_split': 9}\n",
      "0.774 (+/-0.018) for {'max_depth': 3, 'min_samples_leaf': 8, 'min_samples_split': 9}\n"
     ]
    }
   ],
   "source": [
    "random_search_gb = RandomizedSearchCV(model_gb, tuned_params,\n",
    "                                  n_iter = 20, cv = 10)\n",
    "\n",
    "random_search_gb.fit(X, y)\n",
    "print(\"Best Params for Gradient Boosting: \",random_search_gb.best_params_)\n",
    "print()\n",
    "\n",
    "means = random_search_gb.cv_results_['mean_test_score']\n",
    "stds = random_search_gb.cv_results_['std_test_score']\n",
    "\n",
    "for mean, std, params in zip(means, stds, random_search_gb.cv_results_['params']):\n",
    "        print(\"%0.3f (+/-%0.03f) for %r\"\n",
    "              % (mean, std * 2, params))"
   ]
  },
  {
   "cell_type": "code",
   "execution_count": 22,
   "metadata": {},
   "outputs": [],
   "source": [
    "model_gb_2 = GradientBoostingClassifier(max_depth = random_search_gb.best_params_['max_depth'],\n",
    "                                   min_samples_leaf = random_search_gb.best_params_['min_samples_leaf'],\n",
    "                                   min_samples_split = random_search_gb.best_params_['min_samples_split'])"
   ]
  },
  {
   "cell_type": "code",
   "execution_count": 23,
   "metadata": {},
   "outputs": [
    {
     "data": {
      "text/plain": [
       "GradientBoostingClassifier(ccp_alpha=0.0, criterion='friedman_mse', init=None,\n",
       "                           learning_rate=0.1, loss='deviance', max_depth=2,\n",
       "                           max_features=None, max_leaf_nodes=None,\n",
       "                           min_impurity_decrease=0.0, min_impurity_split=None,\n",
       "                           min_samples_leaf=2, min_samples_split=8,\n",
       "                           min_weight_fraction_leaf=0.0, n_estimators=100,\n",
       "                           n_iter_no_change=None, presort='deprecated',\n",
       "                           random_state=None, subsample=1.0, tol=0.0001,\n",
       "                           validation_fraction=0.1, verbose=0,\n",
       "                           warm_start=False)"
      ]
     },
     "execution_count": 23,
     "metadata": {},
     "output_type": "execute_result"
    }
   ],
   "source": [
    "model_gb_2.fit(X_train, y_train)"
   ]
  },
  {
   "cell_type": "code",
   "execution_count": 24,
   "metadata": {},
   "outputs": [
    {
     "name": "stdout",
     "output_type": "stream",
     "text": [
      "KFold(n_splits=20, random_state=45, shuffle=False)\n",
      "Score in Random Forest :  0.7696551724137931\n",
      "Score in Random Forest :  0.7503448275862069\n",
      "Score in Random Forest :  0.7655172413793103\n",
      "Score in Random Forest :  0.7627586206896552\n",
      "Score in Random Forest :  0.7944827586206896\n",
      "Score in Random Forest :  0.776551724137931\n",
      "Score in Random Forest :  0.7737931034482759\n",
      "Score in Random Forest :  0.7624309392265194\n",
      "Score in Random Forest :  0.7693370165745856\n",
      "Score in Random Forest :  0.7969613259668509\n",
      "Score in Random Forest :  0.7679558011049724\n",
      "Score in Random Forest :  0.7582872928176796\n",
      "Score in Random Forest :  0.7997237569060773\n",
      "Score in Random Forest :  0.7817679558011049\n",
      "Score in Random Forest :  0.7803867403314917\n",
      "Score in Random Forest :  0.7983425414364641\n",
      "Score in Random Forest :  0.7859116022099447\n",
      "Score in Random Forest :  0.7762430939226519\n",
      "Score in Random Forest :  0.7941988950276243\n",
      "Score in Random Forest :  0.7638121546961326\n",
      "0.776423128214898\n"
     ]
    }
   ],
   "source": [
    "kf = KFold(n_splits=20, random_state=45)\n",
    "kf.get_n_splits(X)\n",
    "from sklearn.metrics import accuracy_score\n",
    "print(kf)\n",
    "\n",
    "# save our score\n",
    "scoring = []\n",
    "for train_index, test_index in kf.split(X):\n",
    "    X_train, X_test = X[train_index], X[test_index]\n",
    "    y_train, y_test = y[train_index], y[test_index]\n",
    "    model_gb_2.fit(X_train, y_train)\n",
    "    pred = model_gb_2.predict(X_test)\n",
    "    hasil = accuracy_score(y_test, pred)\n",
    "    print(\"Score in Random Forest : \", hasil)\n",
    "    scoring.append(hasil)\n",
    "scoring = np.array(scoring)\n",
    "score_rata_gb = scoring.mean()\n",
    "print(score_rata_gb)"
   ]
  },
  {
   "cell_type": "markdown",
   "metadata": {},
   "source": [
    "## Ensamble Phase (optional)"
   ]
  },
  {
   "cell_type": "code",
   "execution_count": null,
   "metadata": {},
   "outputs": [],
   "source": []
  },
  {
   "cell_type": "markdown",
   "metadata": {},
   "source": [
    "<hr>"
   ]
  },
  {
   "cell_type": "markdown",
   "metadata": {},
   "source": [
    "# Evaluation"
   ]
  },
  {
   "cell_type": "markdown",
   "metadata": {},
   "source": [
    "From data modeling that has been done, please state your evaluation/conclusion related to:\n",
    "\n",
    "1. Our dataset behaviour (how our prediction characteristic & trend)\n",
    "2. Model Analysis, including their parameter & performance\n",
    "3. Result after optimization phase\n",
    "4. Relate your analysis with EDA & preprocessing that you have done before\n",
    "5. Another improvement that must be done to increase your model performance"
   ]
  },
  {
   "cell_type": "code",
   "execution_count": 25,
   "metadata": {},
   "outputs": [],
   "source": [
    "from sklearn.tree import export_graphviz\n",
    "from sklearn import tree\n",
    "from IPython.display import SVG\n",
    "from graphviz import Source\n",
    "from IPython.display import display"
   ]
  },
  {
   "cell_type": "code",
   "execution_count": 31,
   "metadata": {},
   "outputs": [],
   "source": [
    "X_train_grph = data_train.drop(['default.payment.next.month'], axis=1)\n",
    "X_test_grph = data_test.drop(['default.payment.next.month'], axis=1)\n",
    "\n",
    "y_train_grph = data_train['default.payment.next.month']\n",
    "y_test_grph = data_test['default.payment.next.month']"
   ]
  },
  {
   "cell_type": "code",
   "execution_count": 30,
   "metadata": {},
   "outputs": [
    {
     "data": {
      "image/svg+xml": [
       "<svg height=\"433pt\" viewBox=\"0.00 0.00 1068.50 433.00\" width=\"1069pt\" xmlns=\"http://www.w3.org/2000/svg\" xmlns:xlink=\"http://www.w3.org/1999/xlink\">\n",
       "<g class=\"graph\" id=\"graph0\" transform=\"scale(1 1) rotate(0) translate(4 429)\">\n",
       "<title>Tree</title>\n",
       "<polygon fill=\"white\" points=\"-4,4 -4,-429 1064.5,-429 1064.5,4 -4,4\" stroke=\"none\"/>\n",
       "<!-- 0 -->\n",
       "<g class=\"node\" id=\"node1\"><title>0</title>\n",
       "<polygon fill=\"#efb185\" points=\"611,-425 480,-425 480,-342 611,-342 611,-425\" stroke=\"black\"/>\n",
       "<text font-family=\"Times New Roman,serif\" font-size=\"14.00\" text-anchor=\"middle\" x=\"545.5\" y=\"-409.8\">PAY_0 &lt;= 3.5</text>\n",
       "<text font-family=\"Times New Roman,serif\" font-size=\"14.00\" text-anchor=\"middle\" x=\"545.5\" y=\"-394.8\">entropy = 0.853</text>\n",
       "<text font-family=\"Times New Roman,serif\" font-size=\"14.00\" text-anchor=\"middle\" x=\"545.5\" y=\"-379.8\">samples = 13763</text>\n",
       "<text font-family=\"Times New Roman,serif\" font-size=\"14.00\" text-anchor=\"middle\" x=\"545.5\" y=\"-364.8\">value = [9938, 3825]</text>\n",
       "<text font-family=\"Times New Roman,serif\" font-size=\"14.00\" text-anchor=\"middle\" x=\"545.5\" y=\"-349.8\">class = 0</text>\n",
       "</g>\n",
       "<!-- 1 -->\n",
       "<g class=\"node\" id=\"node2\"><title>1</title>\n",
       "<polygon fill=\"#eca36f\" points=\"510,-306 379,-306 379,-223 510,-223 510,-306\" stroke=\"black\"/>\n",
       "<text font-family=\"Times New Roman,serif\" font-size=\"14.00\" text-anchor=\"middle\" x=\"444.5\" y=\"-290.8\">PAY_2 &lt;= 2.5</text>\n",
       "<text font-family=\"Times New Roman,serif\" font-size=\"14.00\" text-anchor=\"middle\" x=\"444.5\" y=\"-275.8\">entropy = 0.749</text>\n",
       "<text font-family=\"Times New Roman,serif\" font-size=\"14.00\" text-anchor=\"middle\" x=\"444.5\" y=\"-260.8\">samples = 11980</text>\n",
       "<text font-family=\"Times New Roman,serif\" font-size=\"14.00\" text-anchor=\"middle\" x=\"444.5\" y=\"-245.8\">value = [9415, 2565]</text>\n",
       "<text font-family=\"Times New Roman,serif\" font-size=\"14.00\" text-anchor=\"middle\" x=\"444.5\" y=\"-230.8\">class = 0</text>\n",
       "</g>\n",
       "<!-- 0&#45;&gt;1 -->\n",
       "<g class=\"edge\" id=\"edge1\"><title>0-&gt;1</title>\n",
       "<path d=\"M510.459,-341.907C502.624,-332.832 494.241,-323.121 486.169,-313.769\" fill=\"none\" stroke=\"black\"/>\n",
       "<polygon fill=\"black\" points=\"488.663,-311.303 479.48,-306.021 483.365,-315.878 488.663,-311.303\" stroke=\"black\"/>\n",
       "<text font-family=\"Times New Roman,serif\" font-size=\"14.00\" text-anchor=\"middle\" x=\"477.65\" y=\"-327.254\">True</text>\n",
       "</g>\n",
       "<!-- 8 -->\n",
       "<g class=\"node\" id=\"node9\"><title>8</title>\n",
       "<polygon fill=\"#8bc6f0\" points=\"710,-306 585,-306 585,-223 710,-223 710,-306\" stroke=\"black\"/>\n",
       "<text font-family=\"Times New Roman,serif\" font-size=\"14.00\" text-anchor=\"middle\" x=\"647.5\" y=\"-290.8\">PAY_5 &lt;= 2.5</text>\n",
       "<text font-family=\"Times New Roman,serif\" font-size=\"14.00\" text-anchor=\"middle\" x=\"647.5\" y=\"-275.8\">entropy = 0.873</text>\n",
       "<text font-family=\"Times New Roman,serif\" font-size=\"14.00\" text-anchor=\"middle\" x=\"647.5\" y=\"-260.8\">samples = 1783</text>\n",
       "<text font-family=\"Times New Roman,serif\" font-size=\"14.00\" text-anchor=\"middle\" x=\"647.5\" y=\"-245.8\">value = [523, 1260]</text>\n",
       "<text font-family=\"Times New Roman,serif\" font-size=\"14.00\" text-anchor=\"middle\" x=\"647.5\" y=\"-230.8\">class = 1</text>\n",
       "</g>\n",
       "<!-- 0&#45;&gt;8 -->\n",
       "<g class=\"edge\" id=\"edge8\"><title>0-&gt;8</title>\n",
       "<path d=\"M580.888,-341.907C588.8,-332.832 597.266,-323.121 605.419,-313.769\" fill=\"none\" stroke=\"black\"/>\n",
       "<polygon fill=\"black\" points=\"608.241,-315.859 612.174,-306.021 602.965,-311.259 608.241,-315.859\" stroke=\"black\"/>\n",
       "<text font-family=\"Times New Roman,serif\" font-size=\"14.00\" text-anchor=\"middle\" x=\"613.882\" y=\"-327.262\">False</text>\n",
       "</g>\n",
       "<!-- 2 -->\n",
       "<g class=\"node\" id=\"node3\"><title>2</title>\n",
       "<polygon fill=\"#eb9e66\" points=\"277.5,-187 133.5,-187 133.5,-104 277.5,-104 277.5,-187\" stroke=\"black\"/>\n",
       "<text font-family=\"Times New Roman,serif\" font-size=\"14.00\" text-anchor=\"middle\" x=\"205.5\" y=\"-171.8\">PAY_AMT3 &lt;= 0.078</text>\n",
       "<text font-family=\"Times New Roman,serif\" font-size=\"14.00\" text-anchor=\"middle\" x=\"205.5\" y=\"-156.8\">entropy = 0.691</text>\n",
       "<text font-family=\"Times New Roman,serif\" font-size=\"14.00\" text-anchor=\"middle\" x=\"205.5\" y=\"-141.8\">samples = 10613</text>\n",
       "<text font-family=\"Times New Roman,serif\" font-size=\"14.00\" text-anchor=\"middle\" x=\"205.5\" y=\"-126.8\">value = [8647, 1966]</text>\n",
       "<text font-family=\"Times New Roman,serif\" font-size=\"14.00\" text-anchor=\"middle\" x=\"205.5\" y=\"-111.8\">class = 0</text>\n",
       "</g>\n",
       "<!-- 1&#45;&gt;2 -->\n",
       "<g class=\"edge\" id=\"edge2\"><title>1-&gt;2</title>\n",
       "<path d=\"M378.876,-231.374C350.448,-217.458 316.874,-201.022 286.88,-186.339\" fill=\"none\" stroke=\"black\"/>\n",
       "<polygon fill=\"black\" points=\"288.217,-183.096 277.696,-181.843 285.139,-189.383 288.217,-183.096\" stroke=\"black\"/>\n",
       "</g>\n",
       "<!-- 5 -->\n",
       "<g class=\"node\" id=\"node6\"><title>5</title>\n",
       "<polygon fill=\"#f9e3d3\" points=\"503.5,-187 385.5,-187 385.5,-104 503.5,-104 503.5,-187\" stroke=\"black\"/>\n",
       "<text font-family=\"Times New Roman,serif\" font-size=\"14.00\" text-anchor=\"middle\" x=\"444.5\" y=\"-171.8\">PAY_6 &lt;= 2.5</text>\n",
       "<text font-family=\"Times New Roman,serif\" font-size=\"14.00\" text-anchor=\"middle\" x=\"444.5\" y=\"-156.8\">entropy = 0.989</text>\n",
       "<text font-family=\"Times New Roman,serif\" font-size=\"14.00\" text-anchor=\"middle\" x=\"444.5\" y=\"-141.8\">samples = 1367</text>\n",
       "<text font-family=\"Times New Roman,serif\" font-size=\"14.00\" text-anchor=\"middle\" x=\"444.5\" y=\"-126.8\">value = [768, 599]</text>\n",
       "<text font-family=\"Times New Roman,serif\" font-size=\"14.00\" text-anchor=\"middle\" x=\"444.5\" y=\"-111.8\">class = 0</text>\n",
       "</g>\n",
       "<!-- 1&#45;&gt;5 -->\n",
       "<g class=\"edge\" id=\"edge5\"><title>1-&gt;5</title>\n",
       "<path d=\"M444.5,-222.907C444.5,-214.649 444.5,-205.864 444.5,-197.302\" fill=\"none\" stroke=\"black\"/>\n",
       "<polygon fill=\"black\" points=\"448,-197.021 444.5,-187.021 441,-197.021 448,-197.021\" stroke=\"black\"/>\n",
       "</g>\n",
       "<!-- 3 -->\n",
       "<g class=\"node\" id=\"node4\"><title>3</title>\n",
       "<polygon fill=\"#eeac7c\" points=\"125,-68 0,-68 0,-0 125,-0 125,-68\" stroke=\"black\"/>\n",
       "<text font-family=\"Times New Roman,serif\" font-size=\"14.00\" text-anchor=\"middle\" x=\"62.5\" y=\"-52.8\">entropy = 0.816</text>\n",
       "<text font-family=\"Times New Roman,serif\" font-size=\"14.00\" text-anchor=\"middle\" x=\"62.5\" y=\"-37.8\">samples = 3887</text>\n",
       "<text font-family=\"Times New Roman,serif\" font-size=\"14.00\" text-anchor=\"middle\" x=\"62.5\" y=\"-22.8\">value = [2903, 984]</text>\n",
       "<text font-family=\"Times New Roman,serif\" font-size=\"14.00\" text-anchor=\"middle\" x=\"62.5\" y=\"-7.8\">class = 0</text>\n",
       "</g>\n",
       "<!-- 2&#45;&gt;3 -->\n",
       "<g class=\"edge\" id=\"edge3\"><title>2-&gt;3</title>\n",
       "<path d=\"M152.252,-103.726C139.745,-94.1494 126.44,-83.9611 114.011,-74.4438\" fill=\"none\" stroke=\"black\"/>\n",
       "<polygon fill=\"black\" points=\"116.055,-71.6004 105.987,-68.2996 111.799,-77.1582 116.055,-71.6004\" stroke=\"black\"/>\n",
       "</g>\n",
       "<!-- 4 -->\n",
       "<g class=\"node\" id=\"node5\"><title>4</title>\n",
       "<polygon fill=\"#e9975b\" points=\"268,-68 143,-68 143,-0 268,-0 268,-68\" stroke=\"black\"/>\n",
       "<text font-family=\"Times New Roman,serif\" font-size=\"14.00\" text-anchor=\"middle\" x=\"205.5\" y=\"-52.8\">entropy = 0.6</text>\n",
       "<text font-family=\"Times New Roman,serif\" font-size=\"14.00\" text-anchor=\"middle\" x=\"205.5\" y=\"-37.8\">samples = 6726</text>\n",
       "<text font-family=\"Times New Roman,serif\" font-size=\"14.00\" text-anchor=\"middle\" x=\"205.5\" y=\"-22.8\">value = [5744, 982]</text>\n",
       "<text font-family=\"Times New Roman,serif\" font-size=\"14.00\" text-anchor=\"middle\" x=\"205.5\" y=\"-7.8\">class = 0</text>\n",
       "</g>\n",
       "<!-- 2&#45;&gt;4 -->\n",
       "<g class=\"edge\" id=\"edge4\"><title>2-&gt;4</title>\n",
       "<path d=\"M205.5,-103.726C205.5,-95.5175 205.5,-86.8595 205.5,-78.56\" fill=\"none\" stroke=\"black\"/>\n",
       "<polygon fill=\"black\" points=\"209,-78.2996 205.5,-68.2996 202,-78.2996 209,-78.2996\" stroke=\"black\"/>\n",
       "</g>\n",
       "<!-- 6 -->\n",
       "<g class=\"node\" id=\"node7\"><title>6</title>\n",
       "<polygon fill=\"#f6d3ba\" points=\"404.5,-68 286.5,-68 286.5,-0 404.5,-0 404.5,-68\" stroke=\"black\"/>\n",
       "<text font-family=\"Times New Roman,serif\" font-size=\"14.00\" text-anchor=\"middle\" x=\"345.5\" y=\"-52.8\">entropy = 0.968</text>\n",
       "<text font-family=\"Times New Roman,serif\" font-size=\"14.00\" text-anchor=\"middle\" x=\"345.5\" y=\"-37.8\">samples = 947</text>\n",
       "<text font-family=\"Times New Roman,serif\" font-size=\"14.00\" text-anchor=\"middle\" x=\"345.5\" y=\"-22.8\">value = [573, 374]</text>\n",
       "<text font-family=\"Times New Roman,serif\" font-size=\"14.00\" text-anchor=\"middle\" x=\"345.5\" y=\"-7.8\">class = 0</text>\n",
       "</g>\n",
       "<!-- 5&#45;&gt;6 -->\n",
       "<g class=\"edge\" id=\"edge6\"><title>5-&gt;6</title>\n",
       "<path d=\"M407.636,-103.726C399.39,-94.6054 390.642,-84.93 382.395,-75.8078\" fill=\"none\" stroke=\"black\"/>\n",
       "<polygon fill=\"black\" points=\"384.909,-73.3701 375.606,-68.2996 379.717,-78.0647 384.909,-73.3701\" stroke=\"black\"/>\n",
       "</g>\n",
       "<!-- 7 -->\n",
       "<g class=\"node\" id=\"node8\"><title>7</title>\n",
       "<polygon fill=\"#e5f2fc\" points=\"540.5,-68 422.5,-68 422.5,-0 540.5,-0 540.5,-68\" stroke=\"black\"/>\n",
       "<text font-family=\"Times New Roman,serif\" font-size=\"14.00\" text-anchor=\"middle\" x=\"481.5\" y=\"-52.8\">entropy = 0.996</text>\n",
       "<text font-family=\"Times New Roman,serif\" font-size=\"14.00\" text-anchor=\"middle\" x=\"481.5\" y=\"-37.8\">samples = 420</text>\n",
       "<text font-family=\"Times New Roman,serif\" font-size=\"14.00\" text-anchor=\"middle\" x=\"481.5\" y=\"-22.8\">value = [195, 225]</text>\n",
       "<text font-family=\"Times New Roman,serif\" font-size=\"14.00\" text-anchor=\"middle\" x=\"481.5\" y=\"-7.8\">class = 1</text>\n",
       "</g>\n",
       "<!-- 5&#45;&gt;7 -->\n",
       "<g class=\"edge\" id=\"edge7\"><title>5-&gt;7</title>\n",
       "<path d=\"M458.277,-103.726C461.113,-95.3351 464.107,-86.4745 466.968,-78.0072\" fill=\"none\" stroke=\"black\"/>\n",
       "<polygon fill=\"black\" points=\"470.363,-78.8938 470.248,-68.2996 463.731,-76.6529 470.363,-78.8938\" stroke=\"black\"/>\n",
       "</g>\n",
       "<!-- 9 -->\n",
       "<g class=\"node\" id=\"node10\"><title>9</title>\n",
       "<polygon fill=\"#a1d1f3\" points=\"720.5,-187 574.5,-187 574.5,-104 720.5,-104 720.5,-187\" stroke=\"black\"/>\n",
       "<text font-family=\"Times New Roman,serif\" font-size=\"14.00\" text-anchor=\"middle\" x=\"647.5\" y=\"-171.8\">BILL_AMT1 &lt;= 0.037</text>\n",
       "<text font-family=\"Times New Roman,serif\" font-size=\"14.00\" text-anchor=\"middle\" x=\"647.5\" y=\"-156.8\">entropy = 0.929</text>\n",
       "<text font-family=\"Times New Roman,serif\" font-size=\"14.00\" text-anchor=\"middle\" x=\"647.5\" y=\"-141.8\">samples = 992</text>\n",
       "<text font-family=\"Times New Roman,serif\" font-size=\"14.00\" text-anchor=\"middle\" x=\"647.5\" y=\"-126.8\">value = [342, 650]</text>\n",
       "<text font-family=\"Times New Roman,serif\" font-size=\"14.00\" text-anchor=\"middle\" x=\"647.5\" y=\"-111.8\">class = 1</text>\n",
       "</g>\n",
       "<!-- 8&#45;&gt;9 -->\n",
       "<g class=\"edge\" id=\"edge9\"><title>8-&gt;9</title>\n",
       "<path d=\"M647.5,-222.907C647.5,-214.649 647.5,-205.864 647.5,-197.302\" fill=\"none\" stroke=\"black\"/>\n",
       "<polygon fill=\"black\" points=\"651,-197.021 647.5,-187.021 644,-197.021 651,-197.021\" stroke=\"black\"/>\n",
       "</g>\n",
       "<!-- 12 -->\n",
       "<g class=\"node\" id=\"node13\"><title>12</title>\n",
       "<polygon fill=\"#74baed\" points=\"950.5,-187 804.5,-187 804.5,-104 950.5,-104 950.5,-187\" stroke=\"black\"/>\n",
       "<text font-family=\"Times New Roman,serif\" font-size=\"14.00\" text-anchor=\"middle\" x=\"877.5\" y=\"-171.8\">BILL_AMT5 &lt;= 0.783</text>\n",
       "<text font-family=\"Times New Roman,serif\" font-size=\"14.00\" text-anchor=\"middle\" x=\"877.5\" y=\"-156.8\">entropy = 0.776</text>\n",
       "<text font-family=\"Times New Roman,serif\" font-size=\"14.00\" text-anchor=\"middle\" x=\"877.5\" y=\"-141.8\">samples = 791</text>\n",
       "<text font-family=\"Times New Roman,serif\" font-size=\"14.00\" text-anchor=\"middle\" x=\"877.5\" y=\"-126.8\">value = [181, 610]</text>\n",
       "<text font-family=\"Times New Roman,serif\" font-size=\"14.00\" text-anchor=\"middle\" x=\"877.5\" y=\"-111.8\">class = 1</text>\n",
       "</g>\n",
       "<!-- 8&#45;&gt;12 -->\n",
       "<g class=\"edge\" id=\"edge12\"><title>8-&gt;12</title>\n",
       "<path d=\"M710.045,-231.684C736.332,-218.312 767.273,-202.572 795.359,-188.285\" fill=\"none\" stroke=\"black\"/>\n",
       "<polygon fill=\"black\" points=\"797.042,-191.356 804.368,-183.702 793.868,-185.116 797.042,-191.356\" stroke=\"black\"/>\n",
       "</g>\n",
       "<!-- 10 -->\n",
       "<g class=\"node\" id=\"node11\"><title>10</title>\n",
       "<polygon fill=\"#f3c5a4\" points=\"664.5,-68 558.5,-68 558.5,-0 664.5,-0 664.5,-68\" stroke=\"black\"/>\n",
       "<text font-family=\"Times New Roman,serif\" font-size=\"14.00\" text-anchor=\"middle\" x=\"611.5\" y=\"-52.8\">entropy = 0.934</text>\n",
       "<text font-family=\"Times New Roman,serif\" font-size=\"14.00\" text-anchor=\"middle\" x=\"611.5\" y=\"-37.8\">samples = 60</text>\n",
       "<text font-family=\"Times New Roman,serif\" font-size=\"14.00\" text-anchor=\"middle\" x=\"611.5\" y=\"-22.8\">value = [39, 21]</text>\n",
       "<text font-family=\"Times New Roman,serif\" font-size=\"14.00\" text-anchor=\"middle\" x=\"611.5\" y=\"-7.8\">class = 0</text>\n",
       "</g>\n",
       "<!-- 9&#45;&gt;10 -->\n",
       "<g class=\"edge\" id=\"edge10\"><title>9-&gt;10</title>\n",
       "<path d=\"M634.095,-103.726C631.336,-95.3351 628.423,-86.4745 625.639,-78.0072\" fill=\"none\" stroke=\"black\"/>\n",
       "<polygon fill=\"black\" points=\"628.896,-76.7062 622.448,-68.2996 622.246,-78.8925 628.896,-76.7062\" stroke=\"black\"/>\n",
       "</g>\n",
       "<!-- 11 -->\n",
       "<g class=\"node\" id=\"node12\"><title>11</title>\n",
       "<polygon fill=\"#98ccf2\" points=\"800.5,-68 682.5,-68 682.5,-0 800.5,-0 800.5,-68\" stroke=\"black\"/>\n",
       "<text font-family=\"Times New Roman,serif\" font-size=\"14.00\" text-anchor=\"middle\" x=\"741.5\" y=\"-52.8\">entropy = 0.91</text>\n",
       "<text font-family=\"Times New Roman,serif\" font-size=\"14.00\" text-anchor=\"middle\" x=\"741.5\" y=\"-37.8\">samples = 932</text>\n",
       "<text font-family=\"Times New Roman,serif\" font-size=\"14.00\" text-anchor=\"middle\" x=\"741.5\" y=\"-22.8\">value = [303, 629]</text>\n",
       "<text font-family=\"Times New Roman,serif\" font-size=\"14.00\" text-anchor=\"middle\" x=\"741.5\" y=\"-7.8\">class = 1</text>\n",
       "</g>\n",
       "<!-- 9&#45;&gt;11 -->\n",
       "<g class=\"edge\" id=\"edge11\"><title>9-&gt;11</title>\n",
       "<path d=\"M682.502,-103.726C690.254,-94.6966 698.472,-85.1235 706.234,-76.0816\" fill=\"none\" stroke=\"black\"/>\n",
       "<polygon fill=\"black\" points=\"709.056,-78.1671 712.914,-68.2996 703.745,-73.6075 709.056,-78.1671\" stroke=\"black\"/>\n",
       "</g>\n",
       "<!-- 13 -->\n",
       "<g class=\"node\" id=\"node14\"><title>13</title>\n",
       "<polygon fill=\"#6eb7ec\" points=\"936.5,-68 818.5,-68 818.5,-0 936.5,-0 936.5,-68\" stroke=\"black\"/>\n",
       "<text font-family=\"Times New Roman,serif\" font-size=\"14.00\" text-anchor=\"middle\" x=\"877.5\" y=\"-52.8\">entropy = 0.744</text>\n",
       "<text font-family=\"Times New Roman,serif\" font-size=\"14.00\" text-anchor=\"middle\" x=\"877.5\" y=\"-37.8\">samples = 734</text>\n",
       "<text font-family=\"Times New Roman,serif\" font-size=\"14.00\" text-anchor=\"middle\" x=\"877.5\" y=\"-22.8\">value = [155, 579]</text>\n",
       "<text font-family=\"Times New Roman,serif\" font-size=\"14.00\" text-anchor=\"middle\" x=\"877.5\" y=\"-7.8\">class = 1</text>\n",
       "</g>\n",
       "<!-- 12&#45;&gt;13 -->\n",
       "<g class=\"edge\" id=\"edge13\"><title>12-&gt;13</title>\n",
       "<path d=\"M877.5,-103.726C877.5,-95.5175 877.5,-86.8595 877.5,-78.56\" fill=\"none\" stroke=\"black\"/>\n",
       "<polygon fill=\"black\" points=\"881,-78.2996 877.5,-68.2996 874,-78.2996 881,-78.2996\" stroke=\"black\"/>\n",
       "</g>\n",
       "<!-- 14 -->\n",
       "<g class=\"node\" id=\"node15\"><title>14</title>\n",
       "<polygon fill=\"#dfeffb\" points=\"1060.5,-68 954.5,-68 954.5,-0 1060.5,-0 1060.5,-68\" stroke=\"black\"/>\n",
       "<text font-family=\"Times New Roman,serif\" font-size=\"14.00\" text-anchor=\"middle\" x=\"1007.5\" y=\"-52.8\">entropy = 0.994</text>\n",
       "<text font-family=\"Times New Roman,serif\" font-size=\"14.00\" text-anchor=\"middle\" x=\"1007.5\" y=\"-37.8\">samples = 57</text>\n",
       "<text font-family=\"Times New Roman,serif\" font-size=\"14.00\" text-anchor=\"middle\" x=\"1007.5\" y=\"-22.8\">value = [26, 31]</text>\n",
       "<text font-family=\"Times New Roman,serif\" font-size=\"14.00\" text-anchor=\"middle\" x=\"1007.5\" y=\"-7.8\">class = 1</text>\n",
       "</g>\n",
       "<!-- 12&#45;&gt;14 -->\n",
       "<g class=\"edge\" id=\"edge14\"><title>12-&gt;14</title>\n",
       "<path d=\"M925.907,-103.726C937.06,-94.3318 948.912,-84.349 960.025,-74.9883\" fill=\"none\" stroke=\"black\"/>\n",
       "<polygon fill=\"black\" points=\"962.573,-77.4188 967.966,-68.2996 958.063,-72.065 962.573,-77.4188\" stroke=\"black\"/>\n",
       "</g>\n",
       "</g>\n",
       "</svg>"
      ],
      "text/plain": [
       "<IPython.core.display.SVG object>"
      ]
     },
     "metadata": {},
     "output_type": "display_data"
    }
   ],
   "source": [
    "# Dataset behaviour (Decision Tree Optimized)\n",
    "labels = X_train_grph.append(X_test_grph).columns\n",
    "\n",
    "graph = Source(tree.export_graphviz(model_dt_2,\n",
    "                                   out_file = None,\n",
    "                                   feature_names = labels,\n",
    "                                   class_names = ['0', '1'],\n",
    "                                   filled = True))\n",
    "\n",
    "display(SVG(graph.pipe(format='svg')))"
   ]
  },
  {
   "cell_type": "code",
   "execution_count": 33,
   "metadata": {},
   "outputs": [
    {
     "name": "stdout",
     "output_type": "stream",
     "text": [
      "Decision Tree Akurasi : 0.6842650103519669\n",
      "Random Forest Akurasi : 0.7784679089026915\n",
      "Gradient Boosting Akurasi : 0.777087646652864\n"
     ]
    }
   ],
   "source": [
    "# Model analysis\n",
    "print('Decision Tree Akurasi :', model_dt.score(X_test_grph, y_test_grph))\n",
    "print('Random Forest Akurasi :', model_rf.score(X_test_grph, y_test_grph))\n",
    "print('Gradient Boosting Akurasi :', model_gb.score(X_test_grph, y_test_grph))"
   ]
  },
  {
   "cell_type": "markdown",
   "metadata": {},
   "source": [
    "### Optimization"
   ]
  },
  {
   "cell_type": "code",
   "execution_count": 36,
   "metadata": {},
   "outputs": [
    {
     "name": "stdout",
     "output_type": "stream",
     "text": [
      "Decision Tree Akurasi : 0.7836438923395446\n",
      "Random Forest Akurasi : 0.7681159420289855\n",
      "Gradient Boosting Akurasi : 0.7843340234644582\n"
     ]
    }
   ],
   "source": [
    "# Result after optimization phase\n",
    "print('Decision Tree Akurasi :', model_dt_2.score(X_test_grph, y_test_grph))\n",
    "print('Random Forest Akurasi :', model_rf_2.score(X_test_grph, y_test_grph))\n",
    "print('Gradient Boosting Akurasi :', model_gb_2.score(X_test_grph, y_test_grph))"
   ]
  },
  {
   "cell_type": "markdown",
   "metadata": {},
   "source": [
    "### Optimization + K-Fold (Rata-Rata)"
   ]
  },
  {
   "cell_type": "code",
   "execution_count": 35,
   "metadata": {},
   "outputs": [
    {
     "name": "stdout",
     "output_type": "stream",
     "text": [
      "Decision Tree Akurasi : 0.7771127833873119\n",
      "Random Forest Akurasi : 0.7635139074109355\n",
      "Gradient Boosting Akurasi : 0.776423128214898\n"
     ]
    }
   ],
   "source": [
    "print('Decision Tree Akurasi :', score_rata_dt)\n",
    "print('Random Forest Akurasi :', score_rata_rf)\n",
    "print('Gradient Boosting Akurasi :', score_rata_gb)"
   ]
  },
  {
   "cell_type": "markdown",
   "metadata": {},
   "source": [
    "#### EDA & preprocessing relation analysis\n",
    "\n",
    "Penggunaan EDA dan Preprocessing membuat model menjadi lebih baik, karena mengurangi beberapa outlier, sehingga menghasilkan data yang cukup baik. Selain itu terdapat proses normalisasi menggunakan MinMax Scaler dan Endoder "
   ]
  },
  {
   "cell_type": "code",
   "execution_count": null,
   "metadata": {},
   "outputs": [],
   "source": [
    "# Another improvement"
   ]
  }
 ],
 "metadata": {
  "kernel_info": {
   "name": "python3"
  },
  "kernelspec": {
   "display_name": "Python 3",
   "language": "python",
   "name": "python3"
  },
  "language_info": {
   "codemirror_mode": {
    "name": "ipython",
    "version": 3
   },
   "file_extension": ".py",
   "mimetype": "text/x-python",
   "name": "python",
   "nbconvert_exporter": "python",
   "pygments_lexer": "ipython3",
   "version": "3.7.1"
  },
  "nteract": {
   "version": "0.12.3"
  },
  "toc": {
   "base_numbering": 1,
   "nav_menu": {},
   "number_sections": true,
   "sideBar": true,
   "skip_h1_title": false,
   "title_cell": "Table of Contents",
   "title_sidebar": "Contents",
   "toc_cell": false,
   "toc_position": {},
   "toc_section_display": true,
   "toc_window_display": false
  },
  "varInspector": {
   "cols": {
    "lenName": 16,
    "lenType": 16,
    "lenVar": 40
   },
   "kernels_config": {
    "python": {
     "delete_cmd_postfix": "",
     "delete_cmd_prefix": "del ",
     "library": "var_list.py",
     "varRefreshCmd": "print(var_dic_list())"
    },
    "r": {
     "delete_cmd_postfix": ") ",
     "delete_cmd_prefix": "rm(",
     "library": "var_list.r",
     "varRefreshCmd": "cat(var_dic_list()) "
    }
   },
   "types_to_exclude": [
    "module",
    "function",
    "builtin_function_or_method",
    "instance",
    "_Feature"
   ],
   "window_display": false
  }
 },
 "nbformat": 4,
 "nbformat_minor": 2
}
